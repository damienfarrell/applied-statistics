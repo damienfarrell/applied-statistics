{
 "cells": [
  {
   "cell_type": "markdown",
   "metadata": {},
   "source": [
    "# **Applied Statistics Project**\n",
    "\n",
    "---\n",
    "\n",
    "**Author: Damien Farrell**\n",
    "\n",
    "---"
   ]
  },
  {
   "cell_type": "code",
   "execution_count": 120,
   "metadata": {},
   "outputs": [],
   "source": [
    "# imports\n",
    "\n",
    "import pandas as pd\n",
    "import numpy as np\n",
    "import matplotlib.pyplot as plt\n",
    "import seaborn as sns\n",
    "import scipy.stats as stats\n",
    "import statsmodels.api as sm\n",
    "\n",
    "sns.set_theme()"
   ]
  },
  {
   "cell_type": "markdown",
   "metadata": {},
   "source": [
    "## **Project Task**"
   ]
  },
  {
   "cell_type": "markdown",
   "metadata": {},
   "source": [
    "> Complete the project in a single notebook called `project.ipynb` in your repository.\n",
    "The same style should be used as detailed above: explanations in MarkDown and code comments, clean code, and regular commits.\n",
    "Use plots as appropriate.\n",
    "<br><br>\n",
    "In this project, you will analyze the [PlantGrowth R dataset](https://vincentarelbundock.github.io/Rdatasets/csv/datasets/PlantGrowth.csv).\n",
    "You will find [a short description](https://vincentarelbundock.github.io/Rdatasets/doc/datasets/PlantGrowth.html) of it on [Vicent Arel-Bundock's Rdatasets page](https://vincentarelbundock.github.io/Rdatasets/).\n",
    "The dataset contains two main variables, a treatment group and the weight of plants within those groups.\n",
    ">\n",
    "> Your task is to perform t-tests and ANOVA on this dataset while describing the dataset and explaining your work.\n",
    "In doing this you should:\n",
    ">\n",
    "> 1. Download and save the dataset to your repository.\n",
    ">\n",
    "> 2. Describe the data set in your notebook.\n",
    ">\n",
    "> 3. Describe what a t-test is, how it works, and what the assumptions are.\n",
    ">\n",
    "> 4. Perform a t-test to determine whether there is a significant difference between the two treatment groups `trt1` and `trt2`.\n",
    ">\n",
    "> 5. Perform ANOVA to determine whether there is a significant difference between the three treatment groups `ctrl`, `trt1`, and `trt2`.\n",
    ">\n",
    "> 6. Explain why it is more appropriate to apply ANOVA rather than several t-tests when analyzing more than two groups.\n",
    "> <br><br>"
   ]
  },
  {
   "cell_type": "markdown",
   "metadata": {},
   "source": [
    "### **1. Download and save the dataset to your repository.**\n",
    "\n",
    "**References:**\n",
    "1. [pandas.read_csv](https://pandas.pydata.org/docs/reference/api/pandas.read_csv.html#pandas-read-csv)"
   ]
  },
  {
   "cell_type": "code",
   "execution_count": 121,
   "metadata": {},
   "outputs": [
    {
     "data": {
      "text/html": [
       "<div>\n",
       "<style scoped>\n",
       "    .dataframe tbody tr th:only-of-type {\n",
       "        vertical-align: middle;\n",
       "    }\n",
       "\n",
       "    .dataframe tbody tr th {\n",
       "        vertical-align: top;\n",
       "    }\n",
       "\n",
       "    .dataframe thead th {\n",
       "        text-align: right;\n",
       "    }\n",
       "</style>\n",
       "<table border=\"1\" class=\"dataframe\">\n",
       "  <thead>\n",
       "    <tr style=\"text-align: right;\">\n",
       "      <th></th>\n",
       "      <th>weight</th>\n",
       "      <th>group</th>\n",
       "    </tr>\n",
       "    <tr>\n",
       "      <th>rownames</th>\n",
       "      <th></th>\n",
       "      <th></th>\n",
       "    </tr>\n",
       "  </thead>\n",
       "  <tbody>\n",
       "    <tr>\n",
       "      <th>1</th>\n",
       "      <td>4.17</td>\n",
       "      <td>ctrl</td>\n",
       "    </tr>\n",
       "    <tr>\n",
       "      <th>2</th>\n",
       "      <td>5.58</td>\n",
       "      <td>ctrl</td>\n",
       "    </tr>\n",
       "    <tr>\n",
       "      <th>3</th>\n",
       "      <td>5.18</td>\n",
       "      <td>ctrl</td>\n",
       "    </tr>\n",
       "    <tr>\n",
       "      <th>4</th>\n",
       "      <td>6.11</td>\n",
       "      <td>ctrl</td>\n",
       "    </tr>\n",
       "    <tr>\n",
       "      <th>5</th>\n",
       "      <td>4.50</td>\n",
       "      <td>ctrl</td>\n",
       "    </tr>\n",
       "  </tbody>\n",
       "</table>\n",
       "</div>"
      ],
      "text/plain": [
       "          weight group\n",
       "rownames              \n",
       "1           4.17  ctrl\n",
       "2           5.58  ctrl\n",
       "3           5.18  ctrl\n",
       "4           6.11  ctrl\n",
       "5           4.50  ctrl"
      ]
     },
     "execution_count": 121,
     "metadata": {},
     "output_type": "execute_result"
    }
   ],
   "source": [
    "df = pd.read_csv('data/plantgrowth.csv', index_col=0)\n",
    "\n",
    "df.head(5)"
   ]
  },
  {
   "cell_type": "markdown",
   "metadata": {},
   "source": [
    "### **2. Describe the data set in your notebook.**\n",
    "\n",
    "**References:**\n",
    "1. [pandas.DataFrame.describe](https://pandas.pydata.org/docs/reference/api/pandas.DataFrame.describe.html#pandas-dataframe-describe)\n",
    "1. [scipy.stats.shapiro()](https://docs.scipy.org/doc/scipy/reference/generated/scipy.stats.shapiro.html#shapiro)\n",
    "1. [pandas.DataFrame.boxplot](https://pandas.pydata.org/docs/reference/api/pandas.DataFrame.boxplot.html#pandas-dataframe-boxplot)\n",
    "1. [scipy.stats.levene](https://docs.scipy.org/doc/scipy/reference/generated/scipy.stats.levene.html#levene)"
   ]
  },
  {
   "cell_type": "code",
   "execution_count": 122,
   "metadata": {},
   "outputs": [
    {
     "data": {
      "text/html": [
       "<div>\n",
       "<style scoped>\n",
       "    .dataframe tbody tr th:only-of-type {\n",
       "        vertical-align: middle;\n",
       "    }\n",
       "\n",
       "    .dataframe tbody tr th {\n",
       "        vertical-align: top;\n",
       "    }\n",
       "\n",
       "    .dataframe thead th {\n",
       "        text-align: right;\n",
       "    }\n",
       "</style>\n",
       "<table border=\"1\" class=\"dataframe\">\n",
       "  <thead>\n",
       "    <tr style=\"text-align: right;\">\n",
       "      <th></th>\n",
       "      <th>weight</th>\n",
       "    </tr>\n",
       "  </thead>\n",
       "  <tbody>\n",
       "    <tr>\n",
       "      <th>count</th>\n",
       "      <td>30.000000</td>\n",
       "    </tr>\n",
       "    <tr>\n",
       "      <th>mean</th>\n",
       "      <td>5.073000</td>\n",
       "    </tr>\n",
       "    <tr>\n",
       "      <th>std</th>\n",
       "      <td>0.701192</td>\n",
       "    </tr>\n",
       "    <tr>\n",
       "      <th>min</th>\n",
       "      <td>3.590000</td>\n",
       "    </tr>\n",
       "    <tr>\n",
       "      <th>25%</th>\n",
       "      <td>4.550000</td>\n",
       "    </tr>\n",
       "    <tr>\n",
       "      <th>50%</th>\n",
       "      <td>5.155000</td>\n",
       "    </tr>\n",
       "    <tr>\n",
       "      <th>75%</th>\n",
       "      <td>5.530000</td>\n",
       "    </tr>\n",
       "    <tr>\n",
       "      <th>max</th>\n",
       "      <td>6.310000</td>\n",
       "    </tr>\n",
       "  </tbody>\n",
       "</table>\n",
       "</div>"
      ],
      "text/plain": [
       "          weight\n",
       "count  30.000000\n",
       "mean    5.073000\n",
       "std     0.701192\n",
       "min     3.590000\n",
       "25%     4.550000\n",
       "50%     5.155000\n",
       "75%     5.530000\n",
       "max     6.310000"
      ]
     },
     "execution_count": 122,
     "metadata": {},
     "output_type": "execute_result"
    }
   ],
   "source": [
    "df.describe()"
   ]
  },
  {
   "cell_type": "markdown",
   "metadata": {},
   "source": [
    "The weights vary from 3.59 to 6.31. The mean is 5.07."
   ]
  },
  {
   "cell_type": "code",
   "execution_count": 123,
   "metadata": {},
   "outputs": [
    {
     "name": "stdout",
     "output_type": "stream",
     "text": [
      "<class 'pandas.core.frame.DataFrame'>\n",
      "Index: 30 entries, 1 to 30\n",
      "Data columns (total 2 columns):\n",
      " #   Column  Non-Null Count  Dtype   \n",
      "---  ------  --------------  -----   \n",
      " 0   weight  30 non-null     float64 \n",
      " 1   group   30 non-null     category\n",
      "dtypes: category(1), float64(1)\n",
      "memory usage: 642.0 bytes\n"
     ]
    }
   ],
   "source": [
    "df['group'] = df['group'].astype('category')\n",
    "\n",
    "df.info()"
   ]
  },
  {
   "cell_type": "code",
   "execution_count": 124,
   "metadata": {},
   "outputs": [
    {
     "data": {
      "text/plain": [
       "group\n",
       "ctrl    10\n",
       "trt1    10\n",
       "trt2    10\n",
       "Name: count, dtype: int64"
      ]
     },
     "execution_count": 124,
     "metadata": {},
     "output_type": "execute_result"
    }
   ],
   "source": [
    "df['group'].value_counts()"
   ]
  },
  {
   "cell_type": "markdown",
   "metadata": {},
   "source": [
    "The dataset consists of a continuous variable (weight) and a categorical treatment group variable with three levels: \"ctrl\", \"trt1\", and \"trt2\".\n",
    "\n",
    "**Variables:**\n",
    "\n",
    "1. weight: A continuous numeric variable representing the dried weight of the plants.\n",
    "1. group: A factor (categorical) variable representing the treatment condition. There are three groups:\n",
    "    - \"ctrl\": control group\n",
    "    - \"trt1\": treatment group 1\n",
    "    - \"trt2\": treatment group 2\n",
    "\n",
    "The dataset consists of 30 observations, each corresponding to one plant. There are 10 plants in each of the three groups."
   ]
  },
  {
   "cell_type": "code",
   "execution_count": 125,
   "metadata": {},
   "outputs": [
    {
     "data": {
      "image/png": "[encoded data removed]",
      "text/plain": [
       "<Figure size 800x600 with 1 Axes>"
      ]
     },
     "metadata": {},
     "output_type": "display_data"
    }
   ],
   "source": [
    "plt.figure(figsize=(8,6))\n",
    "sns.histplot(data=df, x=\"weight\", hue=\"group\", palette=\"muted\", multiple=\"stack\")\n",
    "plt.title(\"Histogram of Plant Weights by Group\")\n",
    "plt.xlabel(\"Weight\")\n",
    "plt.show()"
   ]
  },
  {
   "cell_type": "code",
   "execution_count": 126,
   "metadata": {},
   "outputs": [
    {
     "data": {
      "text/plain": [
       "ShapiroResult(statistic=np.float64(0.9826830162369313), pvalue=np.float64(0.8915073713066284))"
      ]
     },
     "execution_count": 126,
     "metadata": {},
     "output_type": "execute_result"
    }
   ],
   "source": [
    "# Perform the Shapiro Wilk test.\n",
    "stats.shapiro(df['weight'])"
   ]
  },
  {
   "cell_type": "markdown",
   "metadata": {},
   "source": [
    "The Shapiro-Wilk test checks if a sample likely comes from a normal distribution. Its null hypothesis states that the sample is drawn from a normal distribution. The p_value is greater than a 0.05 significance level. This would mean it would fail to reject the null hypothesis. There is no evidence that the data is not from a normal distribution and has a very high p-value of 0.89."
   ]
  },
  {
   "cell_type": "code",
   "execution_count": 127,
   "metadata": {},
   "outputs": [],
   "source": [
    "# Pull the groups out.\n",
    "group_ctrl = df[df['group'] == 'ctrl']['weight']\n",
    "group_trt1 = df[df['group'] == 'trt1']['weight']\n",
    "group_trt2 = df[df['group'] == 'trt2']['weight']"
   ]
  },
  {
   "cell_type": "code",
   "execution_count": 128,
   "metadata": {},
   "outputs": [
    {
     "data": {
      "text/plain": [
       "(np.float64(0.7474734451902585),\n",
       " np.float64(0.45194395810927823),\n",
       " np.float64(0.5642518926711526))"
      ]
     },
     "execution_count": 128,
     "metadata": {},
     "output_type": "execute_result"
    }
   ],
   "source": [
    "# Perform the Shapiro Wilk test on each group.\n",
    "_, group_ctrl_pval = stats.shapiro(group_ctrl)\n",
    "_, group_trt1_pval = stats.shapiro(group_trt1)\n",
    "_, group_trt2_pval = stats.shapiro(group_trt2)\n",
    "\n",
    "group_ctrl_pval, group_trt1_pval, group_trt2_pval"
   ]
  },
  {
   "cell_type": "markdown",
   "metadata": {},
   "source": [
    "The p_value is greater than a 0.05 significance level. This would mean each group would fail to reject the null hypothesis."
   ]
  },
  {
   "cell_type": "code",
   "execution_count": 129,
   "metadata": {},
   "outputs": [
    {
     "data": {
      "image/png": "[encoded data removed]",
      "text/plain": [
       "<Figure size 640x480 with 1 Axes>"
      ]
     },
     "metadata": {},
     "output_type": "display_data"
    }
   ],
   "source": [
    "# Create a QQ plot\n",
    "sm.qqplot(df['weight'])\n",
    "\n",
    "plt.title('QQ Plot')\n",
    "plt.show()"
   ]
  },
  {
   "cell_type": "markdown",
   "metadata": {},
   "source": [
    "QQ plot draws the correlation between a given data and the normal distribution. It is highly correlated."
   ]
  },
  {
   "cell_type": "code",
   "execution_count": 130,
   "metadata": {},
   "outputs": [
    {
     "data": {
      "image/png": "[encoded data removed]",
      "text/plain": [
       "<Figure size 800x600 with 1 Axes>"
      ]
     },
     "metadata": {},
     "output_type": "display_data"
    },
    {
     "data": {
      "image/png": "[encoded data removed]",
      "text/plain": [
       "<Figure size 800x600 with 1 Axes>"
      ]
     },
     "metadata": {},
     "output_type": "display_data"
    }
   ],
   "source": [
    "plt.figure(figsize=(8,6))\n",
    "sns.boxplot(x='group', y='weight', data=df, hue='group')\n",
    "plt.title(\"Distribution of Plant Weights by Treatment Group\")\n",
    "plt.show();\n",
    "\n",
    "plt.figure(figsize=(8,6))\n",
    "sns.swarmplot(x='group', y='weight', data=df, hue='group')\n",
    "plt.title(\"Distribution of Plant Weights by Treatment Group\")\n",
    "plt.show();"
   ]
  },
  {
   "cell_type": "markdown",
   "metadata": {},
   "source": [
    "There are two data points in the trt1 group which could be considered as outliers as seen in boxplot."
   ]
  },
  {
   "cell_type": "code",
   "execution_count": 131,
   "metadata": {},
   "outputs": [
    {
     "data": {
      "text/plain": [
       "LeveneResult(statistic=np.float64(1.1191856948703909), pvalue=np.float64(0.3412266241254737))"
      ]
     },
     "execution_count": 131,
     "metadata": {},
     "output_type": "execute_result"
    }
   ],
   "source": [
    "stats.levene(group_ctrl, group_trt1, group_trt2)"
   ]
  },
  {
   "cell_type": "markdown",
   "metadata": {},
   "source": [
    "The p-value is 0.341 (greater than 0.05) for Levene's test for homogeneity of variances. It fails to reject the null hypothesis that the groups are not significantly different.\n",
    "\n"
   ]
  },
  {
   "cell_type": "markdown",
   "metadata": {},
   "source": [
    "### **3. Describe what a t-test is, how it works, and what the assumptions are.**\n",
    "\n",
    "**References:**\n",
    "\n",
    "1. [scipy.stats.ttest_ind](https://docs.scipy.org/doc/scipy/reference/generated/scipy.stats.ttest_ind.html#ttest-ind)\n",
    "1. [t-Test - Full Course - Everything you need to know](https://www.youtube.com/watch?v=VekJxtk4BYM)\n",
    "1. [Independent t-test using SPSS Statistics](https://statistics.laerd.com/spss-tutorials/independent-t-test-using-spss-statistics.php)\n",
    "\n"
   ]
  },
  {
   "cell_type": "markdown",
   "metadata": {},
   "source": [
    "**What is a t-test?**\n",
    "\n",
    "A t-test is a statistical test used to compare the mean of a continuous variable between two groups. It essentially tests the null hypothesis that the means of the two groups are equal. If the p-value from the t-test is less than the chosen significance level (commonly 0.05), we reject the null hypothesis and conclude that there is a statistically significant difference in the means.\n",
    "\n",
    "**Hypotheses:**\n",
    "\n",
    "Null Hypothesis (H0): The means of the two groups are equal.\n",
    "\n",
    "Alternative Hypothesis (H1): The means of the two groups are not equal.\n",
    "\n",
    "**Test Statistic:**\n",
    "\n",
    "The t-statistic measures the size of the difference relative to the variation in the sample data. A larger absolute t-value typically indicates a greater difference between group means.\n",
    "\n",
    "**P-value:**\n",
    "\n",
    "The p-value tells us the probability of observing the data or something more extreme if the null hypothesis were true.\n",
    "\n",
    "**Assumptions of the t-test:**\n",
    "\n",
    "- Assumption #1: Dependent variable must be continuous (interval or ratio level, e.g., IQ, weight, exam scores).\n",
    "\n",
    "- Assumption #2: Independent variable must have two categorical, independent groups (e.g., gender, smoker status).\n",
    "\n",
    "- Assumption #3: Observations must be independent (no overlap between groups or participants in multiple groups).\n",
    "\n",
    "- Assumption #4: Data must have no significant outliers (extreme values can invalidate results).\n",
    "\n",
    "- Assumption #5: Dependent variable should be approximately normally distributed within groups (testable via Shapiro-Wilk test).\n",
    "\n",
    "- Assumption #6: Homogeneity of variances is required (tested using Levene’s test)."
   ]
  },
  {
   "cell_type": "markdown",
   "metadata": {},
   "source": [
    "### **4. Perform a t-test to determine whether there is a significant difference between the two treatment groups `trt1` and `trt2`.**\n",
    "\n",
    "**References:**\n",
    "\n",
    "1. [scipy.stats.ttest_ind](https://docs.scipy.org/doc/scipy/reference/generated/scipy.stats.ttest_ind.html#ttest-ind)"
   ]
  },
  {
   "cell_type": "code",
   "execution_count": 132,
   "metadata": {},
   "outputs": [
    {
     "data": {
      "text/plain": [
       "TtestResult(statistic=np.float64(-3.0100985421243616), pvalue=np.float64(0.0075184261182198574), df=np.float64(18.0))"
      ]
     },
     "execution_count": 132,
     "metadata": {},
     "output_type": "execute_result"
    }
   ],
   "source": [
    "# Perform a t-test.\n",
    "stats.ttest_ind(group_trt1, group_trt2)"
   ]
  },
  {
   "cell_type": "markdown",
   "metadata": {},
   "source": [
    "The null hypothesis would be rejected as the p-value < 0.05. There is a statistically significant difference between the mean plant weight of the trt1 and trt2 groups."
   ]
  },
  {
   "cell_type": "markdown",
   "metadata": {},
   "source": [
    "### **5. Perform ANOVA to determine whether there is a significant difference between the three treatment groups `ctrl`, `trt1`, and `trt2`**\n",
    "\n",
    "**References:**\n",
    "\n",
    "1. [stats.f_oneway](https://docs.scipy.org/doc/scipy/reference/generated/scipy.stats.f_oneway.html#f-oneway)\n",
    "1. [stats.tukey_hsd](https://docs.scipy.org/doc/scipy/reference/generated/scipy.stats.tukey_hsd.html#tukey-hsd)\n"
   ]
  },
  {
   "cell_type": "markdown",
   "metadata": {},
   "source": [
    "Null Hypothesis (H0): All group means are equal.\n",
    "\n",
    "Alternative Hypothesis (H1): At least one group mean is different from the others."
   ]
  },
  {
   "cell_type": "code",
   "execution_count": 133,
   "metadata": {},
   "outputs": [
    {
     "data": {
      "text/plain": [
       "(np.float64(4.846087862380136), np.float64(0.015909958325622895))"
      ]
     },
     "execution_count": 133,
     "metadata": {},
     "output_type": "execute_result"
    }
   ],
   "source": [
    "# Perform ANOVA.\n",
    "f, p = stats.f_oneway(group_ctrl, group_trt1, group_trt2)\n",
    "\n",
    "# Show.\n",
    "f, p"
   ]
  },
  {
   "cell_type": "markdown",
   "metadata": {},
   "source": [
    "The p-value < 0.05, it suggests that the null hypothesis should be rejected and at least one group’s mean weight is significantly different from the others.\n",
    "\n",
    "To determine which groups mean is different from the others we can perform a Tukey test."
   ]
  },
  {
   "cell_type": "code",
   "execution_count": 134,
   "metadata": {},
   "outputs": [
    {
     "name": "stdout",
     "output_type": "stream",
     "text": [
      "Tukey's HSD Pairwise Group Comparisons (95.0% Confidence Interval)\n",
      "Comparison  Statistic  p-value  Lower CI  Upper CI\n",
      " (0 - 1)      0.371     0.391    -0.320     1.062\n",
      " (0 - 2)     -0.494     0.198    -1.185     0.197\n",
      " (1 - 0)     -0.371     0.391    -1.062     0.320\n",
      " (1 - 2)     -0.865     0.012    -1.556    -0.174\n",
      " (2 - 0)      0.494     0.198    -0.197     1.185\n",
      " (2 - 1)      0.865     0.012     0.174     1.556\n",
      "\n"
     ]
    }
   ],
   "source": [
    "# Tukey's HSD.\n",
    "res = stats.tukey_hsd(group_ctrl, group_trt1, group_trt2)\n",
    "\n",
    "# Show.\n",
    "print(res)"
   ]
  },
  {
   "cell_type": "markdown",
   "metadata": {},
   "source": [
    "Significant Difference Found: Between trt1 and trt2.\n",
    "\n",
    "No Significant Difference Found: Between ctrl and trt1, and between ctrl and trt2.\n",
    "\n",
    "The only the pair trt1 vs. trt2 stands out as having a statistically significant difference in their mean plant weights (comparison 1 vs 2)."
   ]
  },
  {
   "cell_type": "markdown",
   "metadata": {},
   "source": [
    "### **6. Explain why it is more appropriate to apply ANOVA rather than several t-tests when analyzing more than two groups.**\n",
    "\n",
    "1. [Why not compare groups with multiple t-tests?](https://statistics.laerd.com/statistical-guides/one-way-anova-statistical-guide-2.php)"
   ]
  },
  {
   "cell_type": "markdown",
   "metadata": {},
   "source": [
    "ANOVA is used instead of multiple t-tests to control the Type I error rate. Each time you conduct a t-test, there is a risk of making a Type I error. Typically, a p-value below 0.05 is used as the threshold for statistical significance, representing a 5% risk of incorrectly identifying a difference as significant. Performing multiple t-tests increases the risk of a Type I error with each additional test, leading to a much higher overall experiment-wide error rate. For example, running two t-tests on the same data increases this risk to approximately 10%. Such error rates are unacceptably high.\n",
    "\n",
    " ANOVA addresses this issue by allowing for post-hoc pairwise comparisons, such as Tukey tests, which adjust the error rate to maintain the total risk at 5% or lower.\n",
    "\n"
   ]
  },
  {
   "cell_type": "code",
   "execution_count": 135,
   "metadata": {},
   "outputs": [
    {
     "name": "stdout",
     "output_type": "stream",
     "text": [
      "Type I Error Rate (with multiple t-tests): 0.1201\n",
      "Type I Error Rate (single test): 0.05\n"
     ]
    }
   ],
   "source": [
    "no_of_loops = 10_000\n",
    "n = 30\n",
    "alpha = 0.05\n",
    "\n",
    "no_type_i = 0\n",
    "\n",
    "for _ in range(no_of_loops):\n",
    "    # Generate groups with no true difference i.e. null hypothesis is true\n",
    "    group_1 = np.random.normal(loc=10, scale=2, size=n)\n",
    "    group_2 = np.random.normal(loc=10, scale=2, size=n)\n",
    "    group_3 = np.random.normal(loc=10, scale=2, size=n)\n",
    "    \n",
    "    # Perform paired t-tests\n",
    "    p_values = []\n",
    "    p_values.append(stats.ttest_ind(group_1, group_2).pvalue)\n",
    "    p_values.append(stats.ttest_ind(group_1, group_3).pvalue)\n",
    "    p_values.append(stats.ttest_ind(group_2, group_3).pvalue)\n",
    "    \n",
    "    # Loop through each p-value and check if p > alpha\n",
    "    for p in p_values:\n",
    "        if p < alpha:\n",
    "            no_type_i += 1\n",
    "            break\n",
    "\n",
    "# Calculate the Type I error rate\n",
    "multiple_ttests_error_rate = no_type_i / no_of_loops\n",
    "print(f\"Type I Error Rate (with multiple t-tests): {multiple_ttests_error_rate}\")\n",
    "\n",
    "# Compare with the nominal Type I error rate\n",
    "print(f\"Type I Error Rate (single test): {alpha}\")\n"
   ]
  },
  {
   "cell_type": "markdown",
   "metadata": {},
   "source": [
    "As demonstrated above, the Type I Error Rate is higher while running multiple T-Tests."
   ]
  },
  {
   "cell_type": "markdown",
   "metadata": {},
   "source": [
    "---\n",
    "\n",
    "# End"
   ]
  }
 ],
 "metadata": {
  "kernelspec": {
   "display_name": ".venv",
   "language": "python",
   "name": "python3"
  },
  "language_info": {
   "codemirror_mode": {
    "name": "ipython",
    "version": 3
   },
   "file_extension": ".py",
   "mimetype": "text/x-python",
   "name": "python",
   "nbconvert_exporter": "python",
   "pygments_lexer": "ipython3",
   "version": "3.12.8"
  }
 },
 "nbformat": 4,
 "nbformat_minor": 4
}
