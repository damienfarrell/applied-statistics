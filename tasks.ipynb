{
 "cells": [
  {
   "cell_type": "markdown",
   "metadata": {},
   "source": [
    "# **Applied Statistics**\n",
    "\n",
    "---\n",
    "\n",
    "**Author: Damien Farrell**\n",
    "\n",
    "---"
   ]
  },
  {
   "cell_type": "code",
   "execution_count": null,
   "metadata": {},
   "outputs": [],
   "source": [
    "import pandas as pd\n",
    "import numpy as np\n",
    "import matplotlib.pyplot as plt\n",
    "import seaborn as sns\n",
    "import math\n",
    "import scipy.stats as stats\n",
    "import statsmodels as sm\n",
    "\n",
    "sns.set_theme()"
   ]
  },
  {
   "cell_type": "markdown",
   "metadata": {},
   "source": [
    "---\n",
    "\n",
    "## **Task One: Permutations and Combinations**\n",
    "\n",
    "> Suppose we alter the Lady Tasting Tea experiment to involve twelve cups of tea. Six have the milk in first and the other six having tea in first. A person claims they have the special power of being able to tell whether the tea or the milk went into a cup first upon tasting it. You agree to accept their claim if they can tell which of the six cups in your experiment had the milk in first.\n",
    "<br><br>\n",
    "> Calculate, using Python, the probability that they select the correct six cups. Here you should assume that they have no special powers in figuring it out, that they are just guessing. Remember to show and justify your workings in code and MarkDown cells.\n",
    "<br><br>\n",
    "> Suppose, now, you are willing to accept one error. Once they select the six cups they think had the milk in first, you will give them the benefit of the doubt should they have selected at least five of the correct cups. Calculate the probability, assuming they have no special powers, that the person makes at most one error.\n",
    "\n",
    "#### **References**\n",
    "\n",
    "1. [How to ](https://stackoverflow.com/questions/5980042)\n",
    "1. [Panda](https://www.statology.org/pandas-unique-values-in-column/)\n",
    "\n",
    "---"
   ]
  },
  {
   "cell_type": "code",
   "execution_count": 3,
   "metadata": {},
   "outputs": [],
   "source": [
    "# Number of cups of tea in total.\n",
    "no_cups = 12\n",
    "\n",
    "# Number of cups of tea with milk in first.\n",
    "no_cups_milk_first = 6\n",
    "\n",
    "# Number of cups of tea with tea in first.\n",
    "no_cups_tea_first = 6"
   ]
  },
  {
   "cell_type": "code",
   "execution_count": 4,
   "metadata": {},
   "outputs": [
    {
     "data": {
      "text/plain": [
       "924"
      ]
     },
     "execution_count": 4,
     "metadata": {},
     "output_type": "execute_result"
    }
   ],
   "source": [
    "# Number of ways of selecting six cups from twelve.\n",
    "ways = math.comb(no_cups, no_cups_milk_first)\n",
    "\n",
    "# Show.\n",
    "ways"
   ]
  },
  {
   "cell_type": "code",
   "execution_count": 5,
   "metadata": {},
   "outputs": [
    {
     "data": {
      "text/plain": [
       "0.0010822510822510823"
      ]
     },
     "execution_count": 5,
     "metadata": {},
     "output_type": "execute_result"
    }
   ],
   "source": [
    "# There is only 1 correct outcome\n",
    "correct_outcomes = 1\n",
    "\n",
    "# Probability of selecting the correct 6 cups\n",
    "probability = correct_outcomes / ways\n",
    "\n",
    "probability"
   ]
  },
  {
   "cell_type": "markdown",
   "metadata": {},
   "source": [
    "The probability that the person, guessing randomly, correctly identifies all six cups with milk poured first is approximately 0.108%."
   ]
  },
  {
   "cell_type": "code",
   "execution_count": 6,
   "metadata": {},
   "outputs": [
    {
     "data": {
      "text/plain": [
       "0.04004329004329004"
      ]
     },
     "execution_count": 6,
     "metadata": {},
     "output_type": "execute_result"
    }
   ],
   "source": [
    "# Probability of exactly 5 correct guesses (and 1 incorrect)\n",
    "probability_five_correct = (\n",
    "    math.comb(no_cups_milk_first, 5) * math.comb(no_cups - no_cups_milk_first, 1)\n",
    ") / math.comb(no_cups, 6)\n",
    "\n",
    "# Total probability of at most one error\n",
    "prob_at_most_one_error = probability + probability_five_correct\n",
    "\n",
    "prob_at_most_one_error"
   ]
  },
  {
   "cell_type": "markdown",
   "metadata": {},
   "source": [
    "There is approximately 4% chance that the person guesses with at most one error."
   ]
  },
  {
   "cell_type": "markdown",
   "metadata": {},
   "source": [
    "---\n",
    "\n",
    "## **Task Two: numpy's Normal Distribution**\n",
    "\n",
    "\n",
    "> In this task you will assess whether `numpy.random.normal()` properly generates normal values.\n",
    "To begin, generate a sample of one hundred thousand values using the function with mean `10.0` and standard deviation `3.0`.\n",
    "<br><br>\n",
    "> Use the `scipy.stats.shapiro()` function to test whether your sample came from a normal distribution.\n",
    "Explain the results and output.\n",
    "<br><br>\n",
    "> Plot a histogram of your values and plot the corresponding normal distribution probability density function on top of it.\n",
    "\n",
    "#### **References**\n",
    "\n",
    "1. [How to ](https://stackoverflow.com/questions/5980042)\n",
    "1. [Panda](https://www.statology.org/pandas-unique-values-in-column/)\n",
    "\n",
    "---"
   ]
  },
  {
   "cell_type": "code",
   "execution_count": 7,
   "metadata": {},
   "outputs": [
    {
     "data": {
      "text/plain": [
       "array([ 7.3727584 , 10.37421648,  4.27119296, ...,  9.72994523,\n",
       "       11.01640545, 11.03228934], shape=(100000,))"
      ]
     },
     "execution_count": 7,
     "metadata": {},
     "output_type": "execute_result"
    }
   ],
   "source": [
    "# Generate a random normal sample.\n",
    "data = np.random.normal(10, 3, 100_000)\n",
    "\n",
    "# Show.\n",
    "data"
   ]
  },
  {
   "cell_type": "code",
   "execution_count": 8,
   "metadata": {},
   "outputs": [],
   "source": [
    "def f(x, mu=10.0, sigma=3.0):\n",
    "  # The normalisation constant.\n",
    "  norm = 1.0 / np.sqrt(2.0 * np.pi * sigma**2)\n",
    "  \n",
    "  # f(x)\n",
    "  return norm * np.exp(-(x - mu)**2 / (2.0 * sigma**2))"
   ]
  },
  {
   "cell_type": "code",
   "execution_count": 9,
   "metadata": {},
   "outputs": [
    {
     "data": {
      "text/plain": [
       "(array([-50.        , -49.99899999, -49.99799998, ...,  49.99799998,\n",
       "         49.99899999,  50.        ], shape=(100000,)),\n",
       " array([1.84031612e-88, 1.85262590e-88, 1.86501782e-88, ...,\n",
       "        3.33960576e-40, 3.32479641e-40, 3.31005236e-40], shape=(100000,)))"
      ]
     },
     "execution_count": 9,
     "metadata": {},
     "output_type": "execute_result"
    }
   ],
   "source": [
    "# Create an x range.\n",
    "x = np.linspace(-50, 50, 100_000)\n",
    "\n",
    "# Get y values.\n",
    "y = f(x)\n",
    "\n",
    "# Show.\n",
    "x, y"
   ]
  },
  {
   "cell_type": "code",
   "execution_count": 10,
   "metadata": {},
   "outputs": [
    {
     "data": {
      "image/png": "[encoded data removed]",
      "text/plain": [
       "<Figure size 640x480 with 1 Axes>"
      ]
     },
     "metadata": {},
     "output_type": "display_data"
    }
   ],
   "source": [
    "# Create an empty plot.\n",
    "fig, ax = plt.subplots()\n",
    "\n",
    "# Plot the function.\n",
    "ax.plot(x, y);"
   ]
  },
  {
   "cell_type": "code",
   "execution_count": 11,
   "metadata": {},
   "outputs": [
    {
     "data": {
      "image/png": "[encoded data removed]",
      "text/plain": [
       "<Figure size 640x480 with 1 Axes>"
      ]
     },
     "metadata": {},
     "output_type": "display_data"
    }
   ],
   "source": [
    "# Plotting the histogram.\n",
    "plt.hist(data, bins=25, density=True, alpha=0.6, color='b')\n",
    "\n",
    "plt.show()"
   ]
  },
  {
   "cell_type": "code",
   "execution_count": 12,
   "metadata": {},
   "outputs": [
    {
     "data": {
      "image/png": "[encoded data removed]",
      "text/plain": [
       "<Figure size 640x480 with 1 Axes>"
      ]
     },
     "metadata": {},
     "output_type": "display_data"
    }
   ],
   "source": [
    "# Create an empty plot\n",
    "fig, ax = plt.subplots()\n",
    "\n",
    "# Plot the line function\n",
    "ax.plot(x, y, label='Line Plot', color='orange')\n",
    "\n",
    "# Plotting the histogram\n",
    "ax.hist(data, bins=25, density=True, alpha=0.6, color='blue', label='Histogram')\n",
    "\n",
    "# Adding labels and legend\n",
    "ax.set_ylabel('Frequency/Density')\n",
    "ax.legend()\n",
    "\n",
    "# Display the plot\n",
    "plt.show()"
   ]
  },
  {
   "cell_type": "code",
   "execution_count": 13,
   "metadata": {},
   "outputs": [
    {
     "name": "stderr",
     "output_type": "stream",
     "text": [
      "c:\\Users\\Damien\\ATU\\applied-statistics\\.venv\\Lib\\site-packages\\scipy\\stats\\_axis_nan_policy.py:573: UserWarning: scipy.stats.shapiro: For N > 5000, computed p-value may not be accurate. Current N is 100000.\n",
      "  res = hypotest_fun_out(*samples, **kwds)\n"
     ]
    },
    {
     "data": {
      "text/plain": [
       "ShapiroResult(statistic=np.float64(0.9999802104249389), pvalue=np.float64(0.9207964781725689))"
      ]
     },
     "execution_count": 13,
     "metadata": {},
     "output_type": "execute_result"
    }
   ],
   "source": [
    "# Perform the Shapiro Wilk test.\n",
    "stats.shapiro(data)"
   ]
  },
  {
   "cell_type": "markdown",
   "metadata": {},
   "source": [
    "---\n",
    "\n",
    "## Task Three - t-Test Calculation\n",
    "\n",
    "Consider the following dataset containing resting heart rates for patients before and after a two-week exercise program.\n",
    "\n",
    "| Patient ID |  0 |  1 |  2 |  3 |  4 |  5 |  6 |  7 |  8 |  9 |\n",
    "|:-----------|---:|---:|---:|---:|---:|---:|---:|---:|---:|---:|\n",
    "| **Before** | 63 | 68 | 70 | 64 | 74 | 67 | 70 | 57 | 66 | 65 |\n",
    "| **After**  | 64 | 64 | 68 | 64 | 73 | 70 | 72 | 54 | 61 | 63 |\n",
    "\n",
    "Calculate the t-statistic for this dataset using Python, and compare it to the value given by `scipy.stats`. Explain your method and provide any sources used.\n",
    "\n",
    "\n",
    "#### **References**\n",
    "\n",
    "1. [Basic](https://realpython.com/python-data-types/)\n",
    "1. [Using ](https://realpython.com/pandas-python-explore-dataset/)\n",
    "\n",
    "---"
   ]
  },
  {
   "cell_type": "code",
   "execution_count": 14,
   "metadata": {},
   "outputs": [],
   "source": [
    "before = np.array([63, 68, 70, 64, 74, 67, 70, 57, 66, 65])\n",
    "after = np.array([64, 64, 68, 64, 73, 70, 72, 54, 61, 63])"
   ]
  },
  {
   "cell_type": "code",
   "execution_count": 15,
   "metadata": {},
   "outputs": [
    {
     "data": {
      "image/png": "[encoded data removed]",
      "text/plain": [
       "<Figure size 640x480 with 1 Axes>"
      ]
     },
     "metadata": {},
     "output_type": "display_data"
    }
   ],
   "source": [
    "sns.stripplot(data=[before,after]);"
   ]
  },
  {
   "cell_type": "code",
   "execution_count": 16,
   "metadata": {},
   "outputs": [
    {
     "data": {
      "text/plain": [
       "TtestResult(statistic=np.float64(1.337227482480628), pvalue=np.float64(0.21396011317404623), df=np.int64(9))"
      ]
     },
     "execution_count": 16,
     "metadata": {},
     "output_type": "execute_result"
    }
   ],
   "source": [
    "# Paired samples t-test.\n",
    "scipy_stats = stats.ttest_rel(before, after)\n",
    "\n",
    "scipy_stats"
   ]
  },
  {
   "cell_type": "markdown",
   "metadata": {},
   "source": [
    "Manual\n",
    "https://www.youtube.com/watch?v=k9Slvhkha3U\n",
    "put formula in here"
   ]
  },
  {
   "cell_type": "code",
   "execution_count": 17,
   "metadata": {},
   "outputs": [
    {
     "data": {
      "text/plain": [
       "array([-1,  4,  2,  0,  1, -3, -2,  3,  5,  2])"
      ]
     },
     "execution_count": 17,
     "metadata": {},
     "output_type": "execute_result"
    }
   ],
   "source": [
    "difference = before - after\n",
    "\n",
    "difference"
   ]
  },
  {
   "cell_type": "code",
   "execution_count": 18,
   "metadata": {},
   "outputs": [
    {
     "data": {
      "text/plain": [
       "np.float64(2.6012817353502227)"
      ]
     },
     "execution_count": 18,
     "metadata": {},
     "output_type": "execute_result"
    }
   ],
   "source": [
    "mean_difference = np.mean(difference)\n",
    "\n",
    "mean_difference\n",
    "\n",
    "# Sample standard deviation\n",
    "std_difference = np.std(difference, ddof=1)\n",
    "\n",
    "std_difference"
   ]
  },
  {
   "cell_type": "code",
   "execution_count": 19,
   "metadata": {},
   "outputs": [
    {
     "data": {
      "text/plain": [
       "np.float64(1.3372274824806283)"
      ]
     },
     "execution_count": 19,
     "metadata": {},
     "output_type": "execute_result"
    }
   ],
   "source": [
    "n = len(difference)  # Number of observations\n",
    "t_stat_manual = mean_difference / (std_difference / np.sqrt(n))\n",
    "\n",
    "t_stat_manual"
   ]
  },
  {
   "cell_type": "markdown",
   "metadata": {},
   "source": [
    "State hyptosisis\n",
    "\n",
    "There is no difference between the mean of the two groups\n",
    "\n",
    "alternative: they are not equal"
   ]
  },
  {
   "cell_type": "markdown",
   "metadata": {},
   "source": [
    "---\n",
    "## Task Three\n",
    "\n",
    "> In this test we will estimate the probability of committing a type II error in specific circumstances.\n",
    "> To begin, create a variable called `no_type_ii` and set it to `0`.\n",
    "<br><br>\n",
    "> Now use a loop to perform the following test 10,000 times.\n",
    "<br><br>\n",
    "> 1. Use `numpy.random.normal` to generate three samples with 100 values each. Give each a standard deviation of `0.1`. Give the first sample a mean of `4.9`, the second a mean of `5.0`, and the third a mean of `5.1`. \n",
    "<br><br>\n",
    "> 2. Perform one-way anova on the three samples and add `1` to `no_type_ii` whenever a type II error occurs.\n",
    "<br><br>\n",
    ">\n",
    "> Summarize and explain your results.\n",
    "<br>\n",
    "\n",
    "#### **References**\n",
    "\n",
    "\n",
    "1. [How to ](https://statisticsbyjim.com/hypothesis-testing/identify-distribution-data/)\n",
    "\n",
    "\n",
    "\n",
    "---\n"
   ]
  },
  {
   "cell_type": "code",
   "execution_count": 20,
   "metadata": {},
   "outputs": [
    {
     "data": {
      "text/plain": [
       "0"
      ]
     },
     "execution_count": 20,
     "metadata": {},
     "output_type": "execute_result"
    }
   ],
   "source": [
    "no_type_ii = 0\n",
    "\n",
    "def create_samples():\n",
    "    sample_1 = np.random.normal(4.9, 0.1, 100)\n",
    "    sample_2 = np.random.normal(5.0, 0.1, 100)\n",
    "    sample_3 = np.random.normal(5.1, 0.1, 100)\n",
    "    df = pd.DataFrame({'Sample 1': sample_1, 'Sample 2': sample_2, 'Sample 3': sample_3})\n",
    "    return df\n",
    "\n",
    "for _ in range(10_001):\n",
    "    df = create_samples()\n",
    "    # Perform ANOVA.\n",
    "    f_statistic, p_value = stats.f_oneway(df['Sample 1'], df['Sample 2'], df['Sample 3'])\n",
    "    if p_value > 0.05:\n",
    "        no_type_ii += 1\n",
    "\n",
    "no_type_ii"
   ]
  },
  {
   "cell_type": "markdown",
   "metadata": {},
   "source": [
    "TIDY THIS CRAP UP. MAKING FUNCTION FOR IT ALL AND SEPERATE THE VARIABLES"
   ]
  },
  {
   "cell_type": "markdown",
   "metadata": {},
   "source": [
    "***\n",
    "# End"
   ]
  }
 ],
 "metadata": {
  "kernelspec": {
   "display_name": ".venv",
   "language": "python",
   "name": "python3"
  },
  "language_info": {
   "codemirror_mode": {
    "name": "ipython",
    "version": 3
   },
   "file_extension": ".py",
   "mimetype": "text/x-python",
   "name": "python",
   "nbconvert_exporter": "python",
   "pygments_lexer": "ipython3",
   "version": "3.12.8"
  }
 },
 "nbformat": 4,
 "nbformat_minor": 4
}
