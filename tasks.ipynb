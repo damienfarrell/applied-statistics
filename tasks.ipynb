{
 "cells": [
  {
   "cell_type": "markdown",
   "metadata": {},
   "source": [
    "# **Applied Statistics**\n",
    "\n",
    "---\n",
    "\n",
    "**Author: Damien Farrell**\n",
    "\n",
    "---"
   ]
  },
  {
   "cell_type": "code",
   "execution_count": 1,
   "metadata": {},
   "outputs": [],
   "source": [
    "# imports\n",
    "\n",
    "import pandas as pd\n",
    "import numpy as np\n",
    "import matplotlib.pyplot as plt\n",
    "import seaborn as sns\n",
    "import math\n",
    "import scipy.stats as stats\n",
    "\n",
    "sns.set_theme()"
   ]
  },
  {
   "cell_type": "markdown",
   "metadata": {},
   "source": [
    "---\n",
    "\n",
    "## **Task One: Permutations and Combinations**\n",
    "\n",
    "Part One:\n",
    "\n",
    "> Suppose we alter the Lady Tasting Tea experiment to involve twelve cups of tea. Six have the milk in first and the other six having tea in first. A person claims they have the special power of being able to tell whether the tea or the milk went into a cup first upon tasting it. You agree to accept their claim if they can tell which of the six cups in your experiment had the milk in first.\n",
    "<br><br>\n",
    "> Calculate, using Python, the probability that they select the correct six cups. Here you should assume that they have no special powers in figuring it out, that they are just guessing. Remember to show and justify your workings in code and MarkDown cells.\n",
    "<br><br>\n",
    "\n",
    "**References**\n",
    "\n",
    "1. [Python math.comb() Method](https://www.w3schools.com/python/ref_math_comb.asp)\n",
    "1. [Need to clarify the \"At-least Concept\" in Combination.](https://math.stackexchange.com/questions/179660/need-to-clarify-the-at-least-concept-in-combination)\n",
    "1. [Markdown](https://learninglab.gitlabpages.inria.fr/mooc-rr/mooc-rr-ressources/module1/ressources/introduction_to_markdown.html)\n",
    "---"
   ]
  },
  {
   "cell_type": "code",
   "execution_count": 2,
   "metadata": {},
   "outputs": [],
   "source": [
    "# Number of cups of tea in total.\n",
    "no_cups = 12\n",
    "\n",
    "# Number of cups of tea with milk in first.\n",
    "no_cups_milk_first = 6\n",
    "\n",
    "# Number of cups of tea with tea in first.\n",
    "no_cups_tea_first = 6"
   ]
  },
  {
   "cell_type": "code",
   "execution_count": 3,
   "metadata": {},
   "outputs": [
    {
     "data": {
      "text/plain": [
       "924"
      ]
     },
     "execution_count": 3,
     "metadata": {},
     "output_type": "execute_result"
    }
   ],
   "source": [
    "# Number of ways of selecting six cups from twelve.\n",
    "ways = math.comb(no_cups, no_cups_milk_first)\n",
    "\n",
    "# Show.\n",
    "ways"
   ]
  },
  {
   "cell_type": "code",
   "execution_count": 4,
   "metadata": {},
   "outputs": [
    {
     "data": {
      "text/plain": [
       "0.0010822510822510823"
      ]
     },
     "execution_count": 4,
     "metadata": {},
     "output_type": "execute_result"
    }
   ],
   "source": [
    "# There is only 1 correct outcome\n",
    "correct_outcomes = 1\n",
    "\n",
    "# Probability of selecting the correct 6 cups\n",
    "probability = correct_outcomes / ways\n",
    "\n",
    "probability"
   ]
  },
  {
   "cell_type": "markdown",
   "metadata": {},
   "source": [
    "The probability that the person, guessing randomly, correctly identifies all six cups with milk poured first is approximately 0.108%."
   ]
  },
  {
   "cell_type": "markdown",
   "metadata": {},
   "source": [
    "Part Two:\n",
    "\n",
    "> Suppose, now, you are willing to accept one error. Once they select the six cups they think had the milk in first, you will give them the benefit of the doubt should they have selected at least five of the correct cups. Calculate the probability, assuming they have no special powers, that the person makes at most one error.\n",
    "<br><br>\n",
    "> Would you accept two errors? Explain."
   ]
  },
  {
   "cell_type": "markdown",
   "metadata": {},
   "source": [
    "To have exactly 5 correct out of the 6 \"milk-first\" cups, we choose 5 from the correct 6. We must also choose 1 cup from the 6 \"tea-first\" cups.\n",
    "\n",
    "The number of ways to have exactly 5 correct is:\n",
    "\n",
    "$\\binom{6}{5}$.$\\binom{1}{6}$ \n"
   ]
  },
  {
   "cell_type": "code",
   "execution_count": 5,
   "metadata": {},
   "outputs": [
    {
     "data": {
      "text/plain": [
       "0.04004329004329004"
      ]
     },
     "execution_count": 5,
     "metadata": {},
     "output_type": "execute_result"
    }
   ],
   "source": [
    "# Probability of exactly 5 correct guesses (and 1 incorrect)\n",
    "# Choose 5 out of the correct 6 AND choose 1 out of the 6 incorrect\n",
    "probability_five_correct = (\n",
    "    math.comb(no_cups_milk_first, 5) * math.comb(no_cups - no_cups_milk_first, 1)\n",
    ") / math.comb(no_cups, 6)\n",
    "\n",
    "# Total probability of at most one error\n",
    "prob_at_most_one_error = probability + probability_five_correct\n",
    "\n",
    "prob_at_most_one_error"
   ]
  },
  {
   "cell_type": "markdown",
   "metadata": {},
   "source": [
    "There is approximately a 4% chance that the person guesses with at most one error."
   ]
  },
  {
   "cell_type": "markdown",
   "metadata": {},
   "source": [
    "The probability of getting at least 4 correct is much higher, which significantly increases the chance that someone could guess successfully by pure luck. This makes the test less stringent.\n",
    "\n",
    "This can be shown below:"
   ]
  },
  {
   "cell_type": "code",
   "execution_count": 6,
   "metadata": {},
   "outputs": [
    {
     "data": {
      "text/plain": [
       "0.28354978354978355"
      ]
     },
     "execution_count": 6,
     "metadata": {},
     "output_type": "execute_result"
    }
   ],
   "source": [
    "# Probability of exactly 4 correct (and 2 incorrect)\n",
    "# Choose 4 out of the correct 6 AND choose 2 out of the 6 incorrect\n",
    "probability_four_correct = (\n",
    "    math.comb(no_cups_milk_first, 4) * math.comb(no_cups - no_cups_milk_first, 2)\n",
    ") / math.comb(no_cups, 6)\n",
    "\n",
    "# Total probability of at most two error\n",
    "prob_at_most_two_error = probability + probability_five_correct + probability_four_correct\n",
    "\n",
    "prob_at_most_two_error"
   ]
  },
  {
   "cell_type": "markdown",
   "metadata": {},
   "source": [
    "There is approximately a 28% chance that the person guesses with at most two errors."
   ]
  },
  {
   "cell_type": "markdown",
   "metadata": {},
   "source": [
    "---\n",
    "\n",
    "## **Task Two: numpy's Normal Distribution**\n",
    "\n",
    "\n",
    "> In this task you will assess whether `numpy.random.normal()` properly generates normal values.\n",
    "To begin, generate a sample of one hundred thousand values using the function with mean `10.0` and standard deviation `3.0`.\n",
    "<br><br>\n",
    "> Use the `scipy.stats.shapiro()` function to test whether your sample came from a normal distribution.\n",
    "Explain the results and output.\n",
    "<br><br>\n",
    "> Plot a histogram of your values and plot the corresponding normal distribution probability density function on top of it.\n",
    "\n",
    "**References**\n",
    "\n",
    "1. [numpy.random.normal](https://numpy.org/doc/2.0/reference/random/generated/numpy.random.normal.html)\n",
    "1. [scipy.stats.shapiro()](https://docs.scipy.org/doc/scipy/reference/generated/scipy.stats.shapiro.html#shapiro)\n",
    "\n",
    "---"
   ]
  },
  {
   "cell_type": "code",
   "execution_count": 7,
   "metadata": {},
   "outputs": [
    {
     "data": {
      "text/plain": [
       "array([11.7808807 , 11.28220184, 10.20515384, ...,  9.09122675,\n",
       "        7.59325526, 13.39316145], shape=(100000,))"
      ]
     },
     "execution_count": 7,
     "metadata": {},
     "output_type": "execute_result"
    }
   ],
   "source": [
    "# Generate a random normal sample.\n",
    "data = np.random.normal(10, 3, 100_000)\n",
    "\n",
    "# Show.\n",
    "data"
   ]
  },
  {
   "cell_type": "code",
   "execution_count": 8,
   "metadata": {},
   "outputs": [
    {
     "name": "stderr",
     "output_type": "stream",
     "text": [
      "c:\\Users\\Damien\\ATU\\applied-statistics\\.venv\\Lib\\site-packages\\scipy\\stats\\_axis_nan_policy.py:573: UserWarning: scipy.stats.shapiro: For N > 5000, computed p-value may not be accurate. Current N is 100000.\n",
      "  res = hypotest_fun_out(*samples, **kwds)\n"
     ]
    },
    {
     "data": {
      "text/plain": [
       "ShapiroResult(statistic=np.float64(0.9999619305665735), pvalue=np.float64(0.336119338551117))"
      ]
     },
     "execution_count": 8,
     "metadata": {},
     "output_type": "execute_result"
    }
   ],
   "source": [
    "# Perform the Shapiro Wilk test.\n",
    "stats.shapiro(data)"
   ]
  },
  {
   "cell_type": "markdown",
   "metadata": {},
   "source": [
    "The Shapiro-Wilk test checks if a sample likely comes from a normal distribution. Its null hypothesis states that the sample is drawn from a normal distribution. The p_value is greater than a 0.05 significance level. This would mean it would fail to reject the null hypothesis. There is no evidence that the data is not from a normal distribution."
   ]
  },
  {
   "cell_type": "code",
   "execution_count": 9,
   "metadata": {},
   "outputs": [],
   "source": [
    "def f(x, mu=10.0, sigma=3.0):\n",
    "  # The normalisation constant.\n",
    "  norm = 1.0 / np.sqrt(2.0 * np.pi * sigma**2)\n",
    "  \n",
    "  # f(x)\n",
    "  return norm * np.exp(-(x - mu)**2 / (2.0 * sigma**2))"
   ]
  },
  {
   "cell_type": "code",
   "execution_count": 10,
   "metadata": {},
   "outputs": [
    {
     "data": {
      "text/plain": [
       "(array([-50.        , -49.99899999, -49.99799998, ...,  49.99799998,\n",
       "         49.99899999,  50.        ], shape=(100000,)),\n",
       " array([1.84031612e-88, 1.85262590e-88, 1.86501782e-88, ...,\n",
       "        3.33960576e-40, 3.32479641e-40, 3.31005236e-40], shape=(100000,)))"
      ]
     },
     "execution_count": 10,
     "metadata": {},
     "output_type": "execute_result"
    }
   ],
   "source": [
    "# Create an x range.\n",
    "x = np.linspace(-50, 50, 100_000)\n",
    "\n",
    "# Get y values.\n",
    "y = f(x)\n",
    "\n",
    "# Show.\n",
    "x, y"
   ]
  },
  {
   "cell_type": "code",
   "execution_count": 11,
   "metadata": {},
   "outputs": [
    {
     "data": {
      "image/png": "[encoded data removed]",
      "text/plain": [
       "<Figure size 1000x600 with 1 Axes>"
      ]
     },
     "metadata": {},
     "output_type": "display_data"
    }
   ],
   "source": [
    "# Create an empty figure and axes\n",
    "fig, ax = plt.subplots(figsize=(10, 6))\n",
    "\n",
    "# Plot the histogram of the data\n",
    "ax.hist(data, bins=30, density=True, alpha=0.6, label='Sample Data')\n",
    "\n",
    "# Plot the normal PDF on top\n",
    "ax.plot(x, y, 'r', linewidth=2, label='Normal PDF')\n",
    "\n",
    "# Add labels, title, legend, and grid\n",
    "ax.set_xlim([-10, 30])\n",
    "ax.set_xlabel('Value', fontsize=12)\n",
    "ax.set_ylabel('Frequency/Density', fontsize=12)\n",
    "ax.set_title('Histogram of Generated Data with Normal PDF Overlay', fontsize=14)\n",
    "ax.grid(True, linestyle='--', alpha=0.7)\n",
    "ax.legend()\n",
    "\n",
    "# Display the plot\n",
    "plt.show()"
   ]
  },
  {
   "cell_type": "markdown",
   "metadata": {},
   "source": [
    "---\n",
    "\n",
    "## **Task Three: t-Test Calculation**\n",
    "\n",
    "Consider the following dataset containing resting heart rates for patients before and after a two-week exercise program.\n",
    "\n",
    "| Patient ID |  0 |  1 |  2 |  3 |  4 |  5 |  6 |  7 |  8 |  9 |\n",
    "|:-----------|---:|---:|---:|---:|---:|---:|---:|---:|---:|---:|\n",
    "| **Before** | 63 | 68 | 70 | 64 | 74 | 67 | 70 | 57 | 66 | 65 |\n",
    "| **After**  | 64 | 64 | 68 | 64 | 73 | 70 | 72 | 54 | 61 | 63 |\n",
    "\n",
    "Calculate the t-statistic for this dataset using Python, and compare it to the value given by `scipy.stats`. Explain your method and provide any sources used.\n",
    "\n",
    "\n",
    "**References**\n",
    "\n",
    "1. [stats.ttest_rel](https://docs.scipy.org/doc/scipy/reference/generated/scipy.stats.ttest_rel.html#ttest-rel)\n",
    "1. [Student's t-test](https://www.youtube.com/watch?v=pTmLQvMM-1M&t=31s)\n",
    "1. [numpy.std](https://numpy.org/doc/2.1/reference/generated/numpy.std.html#numpy-std)\n",
    "\n",
    "---"
   ]
  },
  {
   "cell_type": "code",
   "execution_count": 12,
   "metadata": {},
   "outputs": [],
   "source": [
    "# Putting the table into numpy arrays\n",
    "before = np.array([63, 68, 70, 64, 74, 67, 70, 57, 66, 65])\n",
    "after = np.array([64, 64, 68, 64, 73, 70, 72, 54, 61, 63])"
   ]
  },
  {
   "cell_type": "code",
   "execution_count": 13,
   "metadata": {},
   "outputs": [
    {
     "data": {
      "image/png": "[encoded data removed]",
      "text/plain": [
       "<Figure size 640x480 with 1 Axes>"
      ]
     },
     "metadata": {},
     "output_type": "display_data"
    }
   ],
   "source": [
    "# Stripplot to visualise the data\n",
    "sns.stripplot(data=[before,after]);"
   ]
  },
  {
   "cell_type": "code",
   "execution_count": 14,
   "metadata": {},
   "outputs": [
    {
     "data": {
      "text/plain": [
       "TtestResult(statistic=np.float64(1.337227482480628), pvalue=np.float64(0.21396011317404623), df=np.int64(9))"
      ]
     },
     "execution_count": 14,
     "metadata": {},
     "output_type": "execute_result"
    }
   ],
   "source": [
    "# Paired samples t-test using scipy_stats.\n",
    "scipy_stats = stats.ttest_rel(before, after)\n",
    "\n",
    "scipy_stats"
   ]
  },
  {
   "cell_type": "markdown",
   "metadata": {},
   "source": [
    "Calculating the [student's t-test](https://www.youtube.com/watch?v=pTmLQvMM-1M&t=31s) manually using the below formula.\n",
    "\n",
    "$t = \\frac{\\bar{X}_1 - \\bar{X}_2}{\\sqrt{\\frac{s_1^2}{n_1} + \\frac{s_2^2}{n_2}}}$\n"
   ]
  },
  {
   "cell_type": "code",
   "execution_count": 15,
   "metadata": {},
   "outputs": [
    {
     "data": {
      "text/plain": [
       "np.float64(1.1)"
      ]
     },
     "execution_count": 15,
     "metadata": {},
     "output_type": "execute_result"
    }
   ],
   "source": [
    "# Getting the difference between the two arrays\n",
    "difference = before - after\n",
    "\n",
    "# Getting the mean between\n",
    "mean_difference = np.mean(difference)\n",
    "\n",
    "mean_difference"
   ]
  },
  {
   "cell_type": "code",
   "execution_count": 16,
   "metadata": {},
   "outputs": [
    {
     "data": {
      "text/plain": [
       "np.float64(2.6012817353502227)"
      ]
     },
     "execution_count": 16,
     "metadata": {},
     "output_type": "execute_result"
    }
   ],
   "source": [
    "# Sample standard deviation (Bessel’s correction)\n",
    "std_difference = np.std(difference, ddof=1)\n",
    "\n",
    "std_difference"
   ]
  },
  {
   "cell_type": "code",
   "execution_count": 17,
   "metadata": {},
   "outputs": [
    {
     "data": {
      "text/plain": [
       "10"
      ]
     },
     "execution_count": 17,
     "metadata": {},
     "output_type": "execute_result"
    }
   ],
   "source": [
    "# Number of observations\n",
    "n = len(difference)  \n",
    "\n",
    "n"
   ]
  },
  {
   "cell_type": "code",
   "execution_count": 18,
   "metadata": {},
   "outputs": [
    {
     "data": {
      "text/plain": [
       "np.float64(1.3372274824806283)"
      ]
     },
     "execution_count": 18,
     "metadata": {},
     "output_type": "execute_result"
    }
   ],
   "source": [
    "# Manually calcuating the T-Statistic using mean, standard deviation, and number of observations.\n",
    "manual_t_statistic = mean_difference / (std_difference / np.sqrt(n))\n",
    "\n",
    "manual_t_statistic"
   ]
  },
  {
   "cell_type": "code",
   "execution_count": 19,
   "metadata": {},
   "outputs": [
    {
     "data": {
      "text/plain": [
       "np.False_"
      ]
     },
     "execution_count": 19,
     "metadata": {},
     "output_type": "execute_result"
    }
   ],
   "source": [
    "manual_t_statistic == scipy_stats[0]\n"
   ]
  },
  {
   "cell_type": "markdown",
   "metadata": {},
   "source": [
    "The manually calculated T-Statistic matches the T-Statistic calculated by `scipy.stats`."
   ]
  },
  {
   "cell_type": "markdown",
   "metadata": {},
   "source": [
    "The null hypothesis is that there is no difference between the mean of the two samples.\n",
    "\n",
    "Using a t table, with a degrees of freedom (ddof) of $n_1 + n_2 -2 = 18$, the critical value is $2.10$ for a p-value of $0.05$. \n",
    "\n",
    "We would not reject the null hypothesis as the critial value $(2.1)$ is greater than the t-test statistic $(1.34)$. The scipy_stats p-value is also greater than $0.05$."
   ]
  },
  {
   "cell_type": "markdown",
   "metadata": {},
   "source": [
    "---\n",
    "## **Task Four: ANOVA**\n",
    "\n",
    "> In this test we will estimate the probability of committing a type II error in specific circumstances.\n",
    "> To begin, create a variable called `no_type_ii` and set it to `0`.\n",
    "<br><br>\n",
    "> Now use a loop to perform the following test 10,000 times.\n",
    "<br><br>\n",
    "> 1. Use `numpy.random.normal` to generate three samples with 100 values each. Give each a standard deviation of `0.1`. Give the first sample a mean of `4.9`, the second a mean of `5.0`, and the third a mean of `5.1`. \n",
    "<br><br>\n",
    "> 2. Perform one-way anova on the three samples and add `1` to `no_type_ii` whenever a type II error occurs.\n",
    "<br><br>\n",
    ">\n",
    "> Summarize and explain your results.\n",
    "<br>\n",
    "\n",
    "**References**\n",
    "\n",
    "\n",
    "1. [numpy.random.normal](https://numpy.org/doc/2.0/reference/random/generated/numpy.random.normal.html#numpy-random-normal)\n",
    "1. [scipy.stats.f_oneway](https://docs.scipy.org/doc/scipy/reference/generated/scipy.stats.f_oneway.html#f-oneway)\n",
    "1. [p-values: What they are and how to interpret them](https://www.youtube.com/watch?v=vemZtEM63GY)\n",
    "\n",
    "---\n"
   ]
  },
  {
   "cell_type": "code",
   "execution_count": 20,
   "metadata": {},
   "outputs": [
    {
     "name": "stdout",
     "output_type": "stream",
     "text": [
      "Number of type II errors: 0\n"
     ]
    }
   ],
   "source": [
    "std_dev = 0.1\n",
    "sample_size = 100\n",
    "\n",
    "mean_1 = 4.9\n",
    "mean_2 = 5\n",
    "mean_3 = 5.1\n",
    "\n",
    "no_of_loops = 10_000\n",
    "\n",
    "no_type_ii = 0\n",
    "\n",
    "# Loop through\n",
    "for _ in range(no_of_loops):\n",
    "    sample_1 = np.random.normal(mean_1, std_dev, sample_size)\n",
    "    sample_2 = np.random.normal(mean_2, std_dev, sample_size)\n",
    "    sample_3 = np.random.normal(mean_3, std_dev, sample_size)\n",
    "    # Perform ANOVA.\n",
    "    f_statistic, p_value = stats.f_oneway(sample_1, sample_2, sample_3)\n",
    "\n",
    "    if p_value > 0.05:\n",
    "        no_type_ii += 1\n",
    "\n",
    "print(f\"Number of type II errors: {no_type_ii}\")\n"
   ]
  },
  {
   "cell_type": "markdown",
   "metadata": {},
   "source": [
    "A type II error occurs if it fail to reject the null when it is actually false. The null hypothesis is that all means are equal. It's false here because means differ (4.9, 5.0, 5.1).\n",
    "\n",
    "If p_val > 0.05, it fails to reject the null and subsequently a type II error. No type II errors occur here.\n",
    "\n",
    "If the mean differences or sample sizes were smaller, or the variance was larger, the probability of a type II error would increase as demonstrated below."
   ]
  },
  {
   "cell_type": "code",
   "execution_count": 21,
   "metadata": {},
   "outputs": [
    {
     "name": "stdout",
     "output_type": "stream",
     "text": [
      "Number of type II errors: 51\n"
     ]
    }
   ],
   "source": [
    "std_dev = 0.2\n",
    "sample_size = 50\n",
    "\n",
    "mean_1 = 5.1\n",
    "mean_2 = 5.2\n",
    "mean_3 = 5.3\n",
    "\n",
    "no_of_loops = 10_000\n",
    "\n",
    "no_type_ii = 0\n",
    "\n",
    "# Loop through\n",
    "for _ in range(no_of_loops):\n",
    "    sample_1 = np.random.normal(mean_1, std_dev, sample_size)\n",
    "    sample_2 = np.random.normal(mean_2, std_dev, sample_size)\n",
    "    sample_3 = np.random.normal(mean_3, std_dev, sample_size)\n",
    "    # Perform ANOVA.\n",
    "    f_statistic, p_value = stats.f_oneway(sample_1, sample_2, sample_3)\n",
    "\n",
    "    if p_value > 0.05:\n",
    "        no_type_ii += 1\n",
    "\n",
    "print(f\"Number of type II errors: {no_type_ii}\")"
   ]
  },
  {
   "cell_type": "markdown",
   "metadata": {},
   "source": [
    "***\n",
    "# End"
   ]
  }
 ],
 "metadata": {
  "kernelspec": {
   "display_name": ".venv",
   "language": "python",
   "name": "python3"
  },
  "language_info": {
   "codemirror_mode": {
    "name": "ipython",
    "version": 3
   },
   "file_extension": ".py",
   "mimetype": "text/x-python",
   "name": "python",
   "nbconvert_exporter": "python",
   "pygments_lexer": "ipython3",
   "version": "3.12.8"
  }
 },
 "nbformat": 4,
 "nbformat_minor": 4
}
