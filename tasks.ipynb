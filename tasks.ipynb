{
 "cells": [
  {
   "cell_type": "markdown",
   "metadata": {},
   "source": [
    "# **Applied Statistics**\n",
    "\n",
    "---\n",
    "\n",
    "**Author: Damien Farrell**\n",
    "\n",
    "---"
   ]
  },
  {
   "cell_type": "code",
   "execution_count": 2,
   "metadata": {},
   "outputs": [],
   "source": [
    "import pandas as pd\n",
    "import numpy as np\n",
    "import matplotlib.pyplot as plt\n",
    "import seaborn as sns\n",
    "import warnings\n",
    "import math\n",
    "import scipy.stats as stats\n",
    "import statsmodels as sm\n",
    "\n",
    "sns.set_theme()"
   ]
  },
  {
   "cell_type": "markdown",
   "metadata": {},
   "source": [
    "---\n",
    "\n",
    "## **Task One: Permutations and Combinations**\n",
    "\n",
    "> Suppose we alter the Lady Tasting Tea experiment to involve twelve cups of tea. Six have the milk in first and the other six having tea in first. A person claims they have the special power of being able to tell whether the tea or the milk went into a cup first upon tasting it. You agree to accept their claim if they can tell which of the six cups in your experiment had the milk in first.\n",
    "<br><br>\n",
    "> Calculate, using Python, the probability that they select the correct six cups. Here you should assume that they have no special powers in figuring it out, that they are just guessing. Remember to show and justify your workings in code and MarkDown cells.\n",
    "<br><br>\n",
    "> Suppose, now, you are willing to accept one error. Once they select the six cups they think had the milk in first, you will give them the benefit of the doubt should they have selected at least five of the correct cups. Calculate the probability, assuming they have no special powers, that the person makes at most one error.\n",
    "\n",
    "#### **References**\n",
    "\n",
    "1. [How to ](https://stackoverflow.com/questions/5980042)\n",
    "1. [Panda](https://www.statology.org/pandas-unique-values-in-column/)\n",
    "\n",
    "---"
   ]
  },
  {
   "cell_type": "markdown",
   "metadata": {},
   "source": [
    "## Cups of Tea"
   ]
  },
  {
   "cell_type": "code",
   "execution_count": 3,
   "metadata": {},
   "outputs": [],
   "source": [
    "# Number of cups of tea in total.\n",
    "no_cups = 12\n",
    "\n",
    "# Number of cups of tea with milk in first.\n",
    "no_cups_milk_first = 6\n",
    "\n",
    "# Number of cups of tea with tea in first.\n",
    "no_cups_tea_first = 6"
   ]
  },
  {
   "cell_type": "code",
   "execution_count": 4,
   "metadata": {},
   "outputs": [
    {
     "data": {
      "text/plain": [
       "924"
      ]
     },
     "execution_count": 4,
     "metadata": {},
     "output_type": "execute_result"
    }
   ],
   "source": [
    "# Number of ways of selecting six cups from twelve.\n",
    "ways = math.comb(no_cups, no_cups_milk_first)\n",
    "\n",
    "# Show.\n",
    "ways"
   ]
  },
  {
   "cell_type": "code",
   "execution_count": 5,
   "metadata": {},
   "outputs": [
    {
     "data": {
      "text/plain": [
       "0.0010822510822510823"
      ]
     },
     "execution_count": 5,
     "metadata": {},
     "output_type": "execute_result"
    }
   ],
   "source": [
    "# There is only 1 correct outcome\n",
    "correct_outcomes = 1\n",
    "\n",
    "# Probability of selecting the correct 6 cups\n",
    "probability = correct_outcomes / ways\n",
    "\n",
    "probability"
   ]
  },
  {
   "cell_type": "markdown",
   "metadata": {},
   "source": []
  },
  {
   "cell_type": "markdown",
   "metadata": {},
   "source": [
    "The probability that the person, guessing randomly, correctly identifies all six cups with milk poured first is approximately 0.108%."
   ]
  },
  {
   "cell_type": "code",
   "execution_count": 6,
   "metadata": {},
   "outputs": [
    {
     "data": {
      "text/plain": [
       "0.04004329004329004"
      ]
     },
     "execution_count": 6,
     "metadata": {},
     "output_type": "execute_result"
    }
   ],
   "source": [
    "# Probability of exactly 5 correct guesses (and 1 incorrect)\n",
    "probability_five_correct = (\n",
    "    math.comb(no_cups_milk_first, 5) * math.comb(no_cups - no_cups_milk_first, 1)\n",
    ") / math.comb(no_cups, 6)\n",
    "\n",
    "# Total probability of at most one error\n",
    "prob_at_most_one_error = probability + probability_five_correct\n",
    "\n",
    "prob_at_most_one_error"
   ]
  },
  {
   "cell_type": "markdown",
   "metadata": {},
   "source": [
    "There is approximately 4% chance that the person guesses with at most one error."
   ]
  },
  {
   "cell_type": "markdown",
   "metadata": {},
   "source": [
    "---\n",
    "\n",
    "## **Task Two: numpy's Normal Distribution**\n",
    "\n",
    "\n",
    "> In this task you will assess whether `numpy.random.normal()` properly generates normal values.\n",
    "To begin, generate a sample of one hundred thousand values using the function with mean `10.0` and standard deviation `3.0`.\n",
    "<br><br>\n",
    "> Use the `scipy.stats.shapiro()` function to test whether your sample came from a normal distribution.\n",
    "Explain the results and output.\n",
    "<br><br>\n",
    "> Plot a histogram of your values and plot the corresponding normal distribution probability density function on top of it.\n",
    "\n",
    "#### **References**\n",
    "\n",
    "1. [How to ](https://stackoverflow.com/questions/5980042)\n",
    "1. [Panda](https://www.statology.org/pandas-unique-values-in-column/)\n",
    "\n",
    "---"
   ]
  },
  {
   "cell_type": "code",
   "execution_count": 7,
   "metadata": {},
   "outputs": [
    {
     "data": {
      "text/plain": [
       "array([13.26999947,  6.31007862,  9.4282568 , ..., 12.99944433,\n",
       "        6.62749995,  9.75215345])"
      ]
     },
     "execution_count": 7,
     "metadata": {},
     "output_type": "execute_result"
    }
   ],
   "source": [
    "# Generate a random normal sample.\n",
    "data = np.random.normal(10, 3, 100_000)\n",
    "\n",
    "# Show.\n",
    "data"
   ]
  },
  {
   "cell_type": "code",
   "execution_count": 8,
   "metadata": {},
   "outputs": [],
   "source": [
    "def f(x, mu=10.0, sigma=3.0):\n",
    "  # The normalisation constant.\n",
    "  norm = 1.0 / np.sqrt(2.0 * np.pi * sigma**2)\n",
    "  \n",
    "  # f(x)\n",
    "  return norm * np.exp(-(x - mu)**2 / (2.0 * sigma**2))"
   ]
  },
  {
   "cell_type": "code",
   "execution_count": 9,
   "metadata": {},
   "outputs": [
    {
     "data": {
      "text/plain": [
       "(array([-50.        , -49.99899999, -49.99799998, ...,  49.99799998,\n",
       "         49.99899999,  50.        ]),\n",
       " array([1.84031612e-88, 1.85262590e-88, 1.86501782e-88, ...,\n",
       "        3.33960576e-40, 3.32479641e-40, 3.31005236e-40]))"
      ]
     },
     "execution_count": 9,
     "metadata": {},
     "output_type": "execute_result"
    }
   ],
   "source": [
    "# Create an x range.\n",
    "x = np.linspace(-50, 50, 100_000)\n",
    "\n",
    "# Get y values.\n",
    "y = f(x)\n",
    "\n",
    "# Show.\n",
    "x, y"
   ]
  },
  {
   "cell_type": "code",
   "execution_count": 10,
   "metadata": {},
   "outputs": [
    {
     "data": {
      "image/png": "[encoded data removed]",
      "text/plain": [
       "<Figure size 640x480 with 1 Axes>"
      ]
     },
     "metadata": {},
     "output_type": "display_data"
    }
   ],
   "source": [
    "# Create an empty plot.\n",
    "fig, ax = plt.subplots()\n",
    "\n",
    "# Plot the function.\n",
    "ax.plot(x, y);"
   ]
  },
  {
   "cell_type": "code",
   "execution_count": 11,
   "metadata": {},
   "outputs": [
    {
     "data": {
      "image/png": "[encoded data removed]",
      "text/plain": [
       "<Figure size 640x480 with 1 Axes>"
      ]
     },
     "metadata": {},
     "output_type": "display_data"
    }
   ],
   "source": [
    "# Plotting the histogram.\n",
    "plt.hist(data, bins=25, density=True, alpha=0.6, color='b')\n",
    "\n",
    "plt.show()"
   ]
  },
  {
   "cell_type": "code",
   "execution_count": 12,
   "metadata": {},
   "outputs": [
    {
     "data": {
      "image/png": "[encoded data removed]",
      "text/plain": [
       "<Figure size 640x480 with 1 Axes>"
      ]
     },
     "metadata": {},
     "output_type": "display_data"
    }
   ],
   "source": [
    "# Create an empty plot\n",
    "fig, ax = plt.subplots()\n",
    "\n",
    "# Plot the line function\n",
    "ax.plot(x, y, label='Line Plot', color='orange')\n",
    "\n",
    "# Plotting the histogram\n",
    "ax.hist(data, bins=25, density=True, alpha=0.6, color='blue', label='Histogram')\n",
    "\n",
    "# Adding labels and legend\n",
    "ax.set_ylabel('Frequency/Density')\n",
    "ax.legend()\n",
    "\n",
    "# Display the plot\n",
    "plt.show()"
   ]
  },
  {
   "cell_type": "code",
   "execution_count": 13,
   "metadata": {},
   "outputs": [
    {
     "name": "stderr",
     "output_type": "stream",
     "text": [
      "c:\\Users\\Damien\\AppData\\Local\\Programs\\Python\\Python313\\Lib\\site-packages\\scipy\\stats\\_axis_nan_policy.py:573: UserWarning: scipy.stats.shapiro: For N > 5000, computed p-value may not be accurate. Current N is 100000.\n",
      "  res = hypotest_fun_out(*samples, **kwds)\n"
     ]
    },
    {
     "data": {
      "text/plain": [
       "ShapiroResult(statistic=np.float64(0.9999780243503842), pvalue=np.float64(0.8679618837772491))"
      ]
     },
     "execution_count": 13,
     "metadata": {},
     "output_type": "execute_result"
    }
   ],
   "source": [
    "# Perform the Shapiro Wilk test.\n",
    "stats.shapiro(data)"
   ]
  },
  {
   "cell_type": "markdown",
   "metadata": {},
   "source": [
    "---\n",
    "\n",
    "## **Task Three - **\n",
    "\n",
    "> Consider the following dataset containing resting heart rates for patients before and after embarking on a two-week exercise program.\n",
    "<br><br>\n",
    "\n",
    "| Patient ID |  0 |  1 |  2 |  3 |  4 |  5 |  6 |  7 |  8 |  9 |\n",
    "|:-----------|---:|---:|---:|---:|---:|---:|---:|---:|---:|---:|\n",
    "| Before     | 63 | 68 | 70 | 64 | 74 | 67 | 70 | 57 | 66 | 65 |\n",
    "| After      | 64 | 64 | 68 | 64 | 73 | 70 | 72 | 54 | 61 | 63 |\n",
    "\n",
    "> Calculate the t-statistic based on this data set, using Python.\n",
    "Compare it to the value given by `scipy.stats`.\n",
    "Explain your work and list any sources used.\n",
    "\n",
    "<br>\n",
    "\n",
    "#### **References**\n",
    "\n",
    "1. [Basic](https://realpython.com/python-data-types/)\n",
    "1. [Using ](https://realpython.com/pandas-python-explore-dataset/)\n",
    "\n",
    "---"
   ]
  },
  {
   "cell_type": "code",
   "execution_count": 14,
   "metadata": {},
   "outputs": [],
   "source": [
    "before = np.array([63, 68, 70, 64, 74, 67, 70, 57, 66, 65])\n",
    "after = np.array([64, 64, 68, 64, 73, 70, 72, 54, 61, 63])"
   ]
  },
  {
   "cell_type": "code",
   "execution_count": 15,
   "metadata": {},
   "outputs": [
    {
     "data": {
      "image/png": "[encoded data removed]",
      "text/plain": [
       "<Figure size 640x480 with 1 Axes>"
      ]
     },
     "metadata": {},
     "output_type": "display_data"
    }
   ],
   "source": [
    "sns.stripplot(data=[before,after]);"
   ]
  },
  {
   "cell_type": "code",
   "execution_count": 16,
   "metadata": {},
   "outputs": [
    {
     "data": {
      "text/plain": [
       "TtestResult(statistic=np.float64(1.337227482480628), pvalue=np.float64(0.21396011317404623), df=np.int64(9))"
      ]
     },
     "execution_count": 16,
     "metadata": {},
     "output_type": "execute_result"
    }
   ],
   "source": [
    "# Paired samples t-test.\n",
    "scipy_stats = stats.ttest_rel(before, after)\n",
    "\n",
    "scipy_stats"
   ]
  },
  {
   "cell_type": "markdown",
   "metadata": {},
   "source": [
    "Manual\n",
    "https://www.youtube.com/watch?v=k9Slvhkha3U\n",
    "put formula in here"
   ]
  },
  {
   "cell_type": "code",
   "execution_count": 17,
   "metadata": {},
   "outputs": [
    {
     "data": {
      "text/plain": [
       "array([-1,  4,  2,  0,  1, -3, -2,  3,  5,  2])"
      ]
     },
     "execution_count": 17,
     "metadata": {},
     "output_type": "execute_result"
    }
   ],
   "source": [
    "difference = before - after\n",
    "\n",
    "difference"
   ]
  },
  {
   "cell_type": "code",
   "execution_count": 18,
   "metadata": {},
   "outputs": [
    {
     "data": {
      "text/plain": [
       "np.float64(2.6012817353502227)"
      ]
     },
     "execution_count": 18,
     "metadata": {},
     "output_type": "execute_result"
    }
   ],
   "source": [
    "mean_difference = np.mean(difference)\n",
    "\n",
    "mean_difference\n",
    "\n",
    "# Sample standard deviation\n",
    "std_difference = np.std(difference, ddof=1)\n",
    "\n",
    "std_difference"
   ]
  },
  {
   "cell_type": "code",
   "execution_count": 19,
   "metadata": {},
   "outputs": [
    {
     "data": {
      "text/plain": [
       "np.float64(1.3372274824806283)"
      ]
     },
     "execution_count": 19,
     "metadata": {},
     "output_type": "execute_result"
    }
   ],
   "source": [
    "n = len(difference)  # Number of observations\n",
    "t_stat_manual = mean_difference / (std_difference / np.sqrt(n))\n",
    "\n",
    "t_stat_manual"
   ]
  },
  {
   "cell_type": "markdown",
   "metadata": {},
   "source": [
    "State hyptosisis\n",
    "\n",
    "There is no difference between the mean of the two groups\n",
    "\n",
    "alternative: they are not equal"
   ]
  },
  {
   "cell_type": "code",
   "execution_count": null,
   "metadata": {},
   "outputs": [],
   "source": []
  },
  {
   "cell_type": "markdown",
   "metadata": {},
   "source": [
    "---\n",
    "## Task Three\n",
    "\n",
    "> In this test we will estimate the probability of committing a type II error in specific circumstances.\n",
    "> To begin, create a variable called `no_type_ii` and set it to `0`.\n",
    "<br><br>\n",
    "> Now use a loop to perform the following test 10,000 times.\n",
    "<br><br>\n",
    "> 1. Use `numpy.random.normal` to generate three samples with 100 values each. Give each a standard deviation of `0.1`. Give the first sample a mean of `4.9`, the second a mean of `5.0`, and the third a mean of `5.1`. \n",
    "<br><br>\n",
    "> 2. Perform one-way anova on the three samples and add `1` to `no_type_ii` whenever a type II error occurs.\n",
    "<br><br>\n",
    "> Summarize and explain your results.\n",
    "<br>\n",
    "\n",
    "#### **References**\n",
    "\n",
    "\n",
    "1. [How to ](https://statisticsbyjim.com/hypothesis-testing/identify-distribution-data/)\n",
    "\n",
    "\n",
    "\n",
    "---\n"
   ]
  },
  {
   "cell_type": "code",
   "execution_count": null,
   "metadata": {},
   "outputs": [
    {
     "data": {
      "text/plain": [
       "0"
      ]
     },
     "execution_count": 28,
     "metadata": {},
     "output_type": "execute_result"
    }
   ],
   "source": [
    "no_type_ii = 0\n",
    "\n",
    "def create_samples():\n",
    "    sample_1 = np.random.normal(4.9, 0.1, 100)\n",
    "    sample_2 = np.random.normal(5.0, 0.1, 100)\n",
    "    sample_3 = np.random.normal(5.1, 0.1, 100)\n",
    "    df = pd.DataFrame({'Sample 1': sample_1, 'Sample 2': sample_2, 'Sample 3': sample_3})\n",
    "    return df\n",
    "\n",
    "for _ in range(10_001):\n",
    "    df = create_samples()\n",
    "    # Perform ANOVA.\n",
    "    f_statistic, p_value = stats.f_oneway(df['Sample 1'], df['Sample 2'], df['Sample 3'])\n",
    "    if p_value > 0.05:\n",
    "        no_type_ii += 1\n",
    "\n",
    "no_type_ii"
   ]
  },
  {
   "cell_type": "markdown",
   "metadata": {},
   "source": [
    "TIDY THIS CRAP UP. MAKING FUNCTION FOR IT ALL AND SEPERATE THE VARIABLES"
   ]
  },
  {
   "cell_type": "code",
   "execution_count": null,
   "metadata": {},
   "outputs": [
    {
     "data": {
      "text/html": [
       "<div>\n",
       "<style scoped>\n",
       "    .dataframe tbody tr th:only-of-type {\n",
       "        vertical-align: middle;\n",
       "    }\n",
       "\n",
       "    .dataframe tbody tr th {\n",
       "        vertical-align: top;\n",
       "    }\n",
       "\n",
       "    .dataframe thead th {\n",
       "        text-align: right;\n",
       "    }\n",
       "</style>\n",
       "<table border=\"1\" class=\"dataframe\">\n",
       "  <thead>\n",
       "    <tr style=\"text-align: right;\">\n",
       "      <th></th>\n",
       "      <th>Sample 1</th>\n",
       "      <th>Sample 2</th>\n",
       "      <th>Sample 3</th>\n",
       "    </tr>\n",
       "  </thead>\n",
       "  <tbody>\n",
       "    <tr>\n",
       "      <th>0</th>\n",
       "      <td>4.860972</td>\n",
       "      <td>4.932219</td>\n",
       "      <td>5.065735</td>\n",
       "    </tr>\n",
       "    <tr>\n",
       "      <th>1</th>\n",
       "      <td>4.866989</td>\n",
       "      <td>4.929648</td>\n",
       "      <td>4.889522</td>\n",
       "    </tr>\n",
       "    <tr>\n",
       "      <th>2</th>\n",
       "      <td>4.831036</td>\n",
       "      <td>5.053058</td>\n",
       "      <td>5.095216</td>\n",
       "    </tr>\n",
       "    <tr>\n",
       "      <th>3</th>\n",
       "      <td>4.946460</td>\n",
       "      <td>5.093410</td>\n",
       "      <td>5.085731</td>\n",
       "    </tr>\n",
       "    <tr>\n",
       "      <th>4</th>\n",
       "      <td>5.025040</td>\n",
       "      <td>4.990809</td>\n",
       "      <td>4.997092</td>\n",
       "    </tr>\n",
       "    <tr>\n",
       "      <th>...</th>\n",
       "      <td>...</td>\n",
       "      <td>...</td>\n",
       "      <td>...</td>\n",
       "    </tr>\n",
       "    <tr>\n",
       "      <th>95</th>\n",
       "      <td>4.834827</td>\n",
       "      <td>4.925891</td>\n",
       "      <td>5.171935</td>\n",
       "    </tr>\n",
       "    <tr>\n",
       "      <th>96</th>\n",
       "      <td>4.992183</td>\n",
       "      <td>4.941611</td>\n",
       "      <td>5.049576</td>\n",
       "    </tr>\n",
       "    <tr>\n",
       "      <th>97</th>\n",
       "      <td>5.037646</td>\n",
       "      <td>5.148497</td>\n",
       "      <td>5.112568</td>\n",
       "    </tr>\n",
       "    <tr>\n",
       "      <th>98</th>\n",
       "      <td>5.032816</td>\n",
       "      <td>4.899239</td>\n",
       "      <td>5.139863</td>\n",
       "    </tr>\n",
       "    <tr>\n",
       "      <th>99</th>\n",
       "      <td>4.691757</td>\n",
       "      <td>5.048462</td>\n",
       "      <td>5.160815</td>\n",
       "    </tr>\n",
       "  </tbody>\n",
       "</table>\n",
       "<p>100 rows × 3 columns</p>\n",
       "</div>"
      ],
      "text/plain": [
       "    Sample 1  Sample 2  Sample 3\n",
       "0   4.860972  4.932219  5.065735\n",
       "1   4.866989  4.929648  4.889522\n",
       "2   4.831036  5.053058  5.095216\n",
       "3   4.946460  5.093410  5.085731\n",
       "4   5.025040  4.990809  4.997092\n",
       "..       ...       ...       ...\n",
       "95  4.834827  4.925891  5.171935\n",
       "96  4.992183  4.941611  5.049576\n",
       "97  5.037646  5.148497  5.112568\n",
       "98  5.032816  4.899239  5.139863\n",
       "99  4.691757  5.048462  5.160815\n",
       "\n",
       "[100 rows x 3 columns]"
      ]
     },
     "execution_count": 22,
     "metadata": {},
     "output_type": "execute_result"
    }
   ],
   "source": [
    "# Create data frame.\n",
    "\n",
    "\n",
    "# Show.\n",
    "df"
   ]
  },
  {
   "cell_type": "code",
   "execution_count": 23,
   "metadata": {},
   "outputs": [
    {
     "data": {
      "text/html": [
       "<div>\n",
       "<style scoped>\n",
       "    .dataframe tbody tr th:only-of-type {\n",
       "        vertical-align: middle;\n",
       "    }\n",
       "\n",
       "    .dataframe tbody tr th {\n",
       "        vertical-align: top;\n",
       "    }\n",
       "\n",
       "    .dataframe thead th {\n",
       "        text-align: right;\n",
       "    }\n",
       "</style>\n",
       "<table border=\"1\" class=\"dataframe\">\n",
       "  <thead>\n",
       "    <tr style=\"text-align: right;\">\n",
       "      <th></th>\n",
       "      <th>Sample 1</th>\n",
       "      <th>Sample 2</th>\n",
       "      <th>Sample 3</th>\n",
       "    </tr>\n",
       "  </thead>\n",
       "  <tbody>\n",
       "    <tr>\n",
       "      <th>count</th>\n",
       "      <td>100.000000</td>\n",
       "      <td>100.000000</td>\n",
       "      <td>100.000000</td>\n",
       "    </tr>\n",
       "    <tr>\n",
       "      <th>mean</th>\n",
       "      <td>4.905694</td>\n",
       "      <td>5.006528</td>\n",
       "      <td>5.098205</td>\n",
       "    </tr>\n",
       "    <tr>\n",
       "      <th>std</th>\n",
       "      <td>0.097641</td>\n",
       "      <td>0.108717</td>\n",
       "      <td>0.090973</td>\n",
       "    </tr>\n",
       "    <tr>\n",
       "      <th>min</th>\n",
       "      <td>4.614260</td>\n",
       "      <td>4.756374</td>\n",
       "      <td>4.889522</td>\n",
       "    </tr>\n",
       "    <tr>\n",
       "      <th>25%</th>\n",
       "      <td>4.830935</td>\n",
       "      <td>4.932151</td>\n",
       "      <td>5.029101</td>\n",
       "    </tr>\n",
       "    <tr>\n",
       "      <th>50%</th>\n",
       "      <td>4.909971</td>\n",
       "      <td>4.996482</td>\n",
       "      <td>5.113409</td>\n",
       "    </tr>\n",
       "    <tr>\n",
       "      <th>75%</th>\n",
       "      <td>4.977110</td>\n",
       "      <td>5.081044</td>\n",
       "      <td>5.155684</td>\n",
       "    </tr>\n",
       "    <tr>\n",
       "      <th>max</th>\n",
       "      <td>5.153710</td>\n",
       "      <td>5.263120</td>\n",
       "      <td>5.265464</td>\n",
       "    </tr>\n",
       "  </tbody>\n",
       "</table>\n",
       "</div>"
      ],
      "text/plain": [
       "         Sample 1    Sample 2    Sample 3\n",
       "count  100.000000  100.000000  100.000000\n",
       "mean     4.905694    5.006528    5.098205\n",
       "std      0.097641    0.108717    0.090973\n",
       "min      4.614260    4.756374    4.889522\n",
       "25%      4.830935    4.932151    5.029101\n",
       "50%      4.909971    4.996482    5.113409\n",
       "75%      4.977110    5.081044    5.155684\n",
       "max      5.153710    5.263120    5.265464"
      ]
     },
     "execution_count": 23,
     "metadata": {},
     "output_type": "execute_result"
    }
   ],
   "source": [
    "# Describe.\n",
    "df.describe()"
   ]
  },
  {
   "cell_type": "markdown",
   "metadata": {},
   "source": [
    "***\n",
    "# End"
   ]
  }
 ],
 "metadata": {
  "kernelspec": {
   "display_name": "Python 3",
   "language": "python",
   "name": "python3"
  },
  "language_info": {
   "codemirror_mode": {
    "name": "ipython",
    "version": 3
   },
   "file_extension": ".py",
   "mimetype": "text/x-python",
   "name": "python",
   "nbconvert_exporter": "python",
   "pygments_lexer": "ipython3",
   "version": "3.13.0"
  }
 },
 "nbformat": 4,
 "nbformat_minor": 4
}
